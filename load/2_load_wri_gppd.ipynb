{
 "cells": [
  {
   "cell_type": "markdown",
   "id": "f3f25610-ad0f-4740-b898-a9e0fcd53aa2",
   "metadata": {},
   "source": [
    "# Power Plant Data Product: Data Loading Step 2\n",
    "\n",
    "This notebook covers the second step of the pipeline:\n",
    "* Load versioned source data from Pachyderm\n",
    "* Get data into a dataframe \n",
    "* Create a Trino client and load the data\n",
    "\n",
    "Permission is hereby granted, free of charge, to any person obtaining a copy of this software and associated documentation files (the \"Software\"), to deal in the Software without restriction, including without limitation the rights to use, copy, modify, merge, publish, distribute, sublicense, and/or sell copies of the Software, and to permit persons to whom the Software is furnished to do so, subject to the following conditions:\n",
    "\n",
    "The above copyright notice and this permission notice shall be included in all copies or substantial portions of the Software.\n",
    "\n",
    "THE SOFTWARE IS PROVIDED \"AS IS\", WITHOUT WARRANTY OF ANY KIND, EXPRESS OR IMPLIED, INCLUDING BUT NOT LIMITED TO THE WARRANTIES OF MERCHANTABILITY, FITNESS FOR A PARTICULAR PURPOSE AND NONINFRINGEMENT. IN NO EVENT SHALL THE AUTHORS OR COPYRIGHT HOLDERS BE LIABLE FOR ANY CLAIM, DAMAGES OR OTHER LIABILITY, WHETHER IN AN ACTION OF CONTRACT, TORT OR OTHERWISE, ARISING FROM, OUT OF OR IN CONNECTION WITH THE SOFTWARE OR THE USE OR OTHER DEALINGS IN THE SOFTWARE."
   ]
  },
  {
   "cell_type": "code",
   "execution_count": 1,
   "id": "3fcc12b1-067c-4eb7-bd7f-63aa8c3b0667",
   "metadata": {},
   "outputs": [
    {
     "name": "stdout",
     "output_type": "stream",
     "text": [
      "Exception reporting mode: Minimal\n"
     ]
    }
   ],
   "source": [
    "# Report exceptions only in cells output\n",
    "%xmode Minimal"
   ]
  },
  {
   "cell_type": "code",
   "execution_count": 2,
   "id": "161992e0-45da-4912-b91e-f97b0030e4ab",
   "metadata": {},
   "outputs": [],
   "source": [
    "from dotenv import dotenv_values, load_dotenv\n",
    "import os\n",
    "import pathlib\n",
    "import socket\n",
    "from pyspark import SparkConf , SparkContext, SparkFiles\n",
    "from pyspark.sql import SQLContext\n",
    "from pyspark.sql import SparkSession, Row, SQLContext\n",
    "from pyspark.sql.types import *\n",
    "import pandas as pd\n",
    "from sqlalchemy import create_engine, text"
   ]
  },
  {
   "cell_type": "markdown",
   "id": "8e8e8b69-6f29-4f3c-b05d-8ee2e780ea9f",
   "metadata": {},
   "source": [
    "Define Environment and Execution Variables"
   ]
  },
  {
   "cell_type": "code",
   "execution_count": 3,
   "id": "1e785101-ad84-4382-a725-8bb0c1280ed8",
   "metadata": {},
   "outputs": [
    {
     "name": "stdout",
     "output_type": "stream",
     "text": [
      "/workspace\n",
      "/workspace/credentials.env\n"
     ]
    }
   ],
   "source": [
    "# Load environment variables from credentials.env\n",
    "dotenv_dir = os.environ.get('CREDENTIAL_DOTENV_DIR', os.environ.get('PWD', '/workspace'))\n",
    "print (dotenv_dir)\n",
    "dotenv_path = pathlib.Path(dotenv_dir) / 'credentials.env'\n",
    "print (dotenv_path)\n",
    "if os.path.exists(dotenv_path):\n",
    "    load_dotenv(dotenv_path=dotenv_path,override=True)"
   ]
  },
  {
   "cell_type": "markdown",
   "id": "deae859a-20d9-479f-b331-90502842e193",
   "metadata": {},
   "source": [
    "Read the data directory holding raw source data pulled from DVC, and list all files"
   ]
  },
  {
   "cell_type": "code",
   "execution_count": 4,
   "id": "f07f1bb4-d6a7-410c-b83f-1acad8c1ea08",
   "metadata": {},
   "outputs": [
    {
     "name": "stdout",
     "output_type": "stream",
     "text": [
      "global_power_plant_database.csv\n",
      "README.txt\n",
      "RELEASE_NOTES.txt\n",
      "A_Global_Database_of_Power_Plants.pdf\n",
      "Estimating_Power_Plant_Generation_in_the_Global_Power_Plant_Database.pdf\n"
     ]
    }
   ],
   "source": [
    "path = '../data/global_power_plant_database_v_1_3/'\n",
    "files = os.listdir(path)\n",
    "for f in files:\n",
    "    print(f)"
   ]
  },
  {
   "cell_type": "code",
   "execution_count": 5,
   "id": "f96fb63c-7024-478f-b972-69479d7f6260",
   "metadata": {},
   "outputs": [
    {
     "name": "stdout",
     "output_type": "stream",
     "text": [
      "/workspace/data-product-template/load/../data/global_power_plant_database_v_1_3/global_power_plant_database.csv\n"
     ]
    }
   ],
   "source": [
    "srcdata = str(pathlib.Path('../data/global_power_plant_database_v_1_3/global_power_plant_database.csv').absolute())\n",
    "print(srcdata)"
   ]
  },
  {
   "cell_type": "markdown",
   "id": "0123e666-8e0d-4b1f-95ee-ea3f2a35dff7",
   "metadata": {},
   "source": [
    "Create a connection to Spark cluster"
   ]
  },
  {
   "cell_type": "code",
   "execution_count": 6,
   "id": "4aa573b9-1665-454b-922d-b4fa78376bd7",
   "metadata": {},
   "outputs": [],
   "source": [
    "SPARK_SERVER = os.environ['SPARK_SERVER']\n",
    "SPARK_CONNECT_PORT = os.environ['SPARK_CONNECT_PORT']\n",
    "SPARK_CONNECT_URL = f'{SPARK_SERVER}:{SPARK_CONNECT_PORT}'"
   ]
  },
  {
   "cell_type": "code",
   "execution_count": 7,
   "id": "d2568793-71c4-40d3-80e1-9b26f5d33a8a",
   "metadata": {},
   "outputs": [
    {
     "name": "stderr",
     "output_type": "stream",
     "text": [
      "Warning: Ignoring non-Spark config property: iceberg.engine.hive.enabled\n",
      "24/06/22 13:34:02 WARN NativeCodeLoader: Unable to load native-hadoop library for your platform... using builtin-java classes where applicable\n",
      "Setting default log level to \"WARN\".\n",
      "To adjust logging level use sc.setLogLevel(newLevel). For SparkR, use setLogLevel(newLevel).\n",
      "24/06/22 13:34:03 WARN MetricsConfig: Cannot locate configuration: tried hadoop-metrics2-s3a-file-system.properties,hadoop-metrics2.properties\n",
      "24/06/22 13:34:04 WARN S3ABlockOutputStream: Application invoked the Syncable API against stream writing to logs/app-20240622133403-0025.inprogress. This is unsupported\n"
     ]
    }
   ],
   "source": [
    "conf = SparkConf() \\\n",
    "    .setAppName(\"spark demo\") \\\n",
    "    .setMaster(SPARK_CONNECT_URL) \\\n",
    "    .set(\"spark.driver.host\", socket.gethostbyname(socket.gethostname()))\\\n",
    "    .set(\"spark.driver.port\", \"10027\") \n",
    "\n",
    "spark = SparkSession.builder.config(conf=conf).enableHiveSupport().getOrCreate()"
   ]
  },
  {
   "cell_type": "code",
   "execution_count": 8,
   "id": "4f234535-2884-4b9c-a899-848ab0ff8288",
   "metadata": {},
   "outputs": [
    {
     "data": {
      "text/html": [
       "\n",
       "            <div>\n",
       "                <p><b>SparkSession - hive</b></p>\n",
       "                \n",
       "        <div>\n",
       "            <p><b>SparkContext</b></p>\n",
       "\n",
       "            <p><a href=\"http://10.128.4.230:4040\">Spark UI</a></p>\n",
       "\n",
       "            <dl>\n",
       "              <dt>Version</dt>\n",
       "                <dd><code>v3.5.1</code></dd>\n",
       "              <dt>Master</dt>\n",
       "                <dd><code>spark://10.131.1.199:7077</code></dd>\n",
       "              <dt>AppName</dt>\n",
       "                <dd><code>spark demo</code></dd>\n",
       "            </dl>\n",
       "        </div>\n",
       "        \n",
       "            </div>\n",
       "        "
      ],
      "text/plain": [
       "<pyspark.sql.session.SparkSession at 0x7f0f39daab50>"
      ]
     },
     "execution_count": 8,
     "metadata": {},
     "output_type": "execute_result"
    }
   ],
   "source": [
    "spark"
   ]
  },
  {
   "cell_type": "markdown",
   "id": "6ee64939-1e6b-414b-b14e-1c75b6b7019f",
   "metadata": {},
   "source": [
    "Create a Spark dataframe from the CSV file (temporary workaround via pandas)"
   ]
  },
  {
   "cell_type": "code",
   "execution_count": 9,
   "id": "5be8d2d8-e326-434f-9485-81457dba1770",
   "metadata": {},
   "outputs": [],
   "source": [
    "df = pd.read_csv(srcdata, low_memory=False).convert_dtypes()"
   ]
  },
  {
   "cell_type": "code",
   "execution_count": 10,
   "id": "b500cfbd-3d68-4cee-b908-89a5c42c83e3",
   "metadata": {},
   "outputs": [
    {
     "name": "stdout",
     "output_type": "stream",
     "text": [
      "<class 'pandas.core.frame.DataFrame'>\n",
      "RangeIndex: 34936 entries, 0 to 34935\n",
      "Data columns (total 36 columns):\n",
      " #   Column                          Non-Null Count  Dtype  \n",
      "---  ------                          --------------  -----  \n",
      " 0   country                         34936 non-null  string \n",
      " 1   country_long                    34936 non-null  string \n",
      " 2   name                            34936 non-null  string \n",
      " 3   gppd_idnr                       34936 non-null  string \n",
      " 4   capacity_mw                     34936 non-null  Float64\n",
      " 5   latitude                        34936 non-null  Float64\n",
      " 6   longitude                       34936 non-null  Float64\n",
      " 7   primary_fuel                    34936 non-null  string \n",
      " 8   other_fuel1                     1944 non-null   string \n",
      " 9   other_fuel2                     276 non-null    string \n",
      " 10  other_fuel3                     92 non-null     string \n",
      " 11  commissioning_year              17447 non-null  Float64\n",
      " 12  owner                           20868 non-null  string \n",
      " 13  source                          34921 non-null  string \n",
      " 14  url                             34918 non-null  string \n",
      " 15  geolocation_source              34517 non-null  string \n",
      " 16  wepp_id                         16234 non-null  string \n",
      " 17  year_of_capacity_data           14887 non-null  Int64  \n",
      " 18  generation_gwh_2013             6417 non-null   Float64\n",
      " 19  generation_gwh_2014             7226 non-null   Float64\n",
      " 20  generation_gwh_2015             8203 non-null   Float64\n",
      " 21  generation_gwh_2016             9144 non-null   Float64\n",
      " 22  generation_gwh_2017             9500 non-null   Float64\n",
      " 23  generation_gwh_2018             9637 non-null   Float64\n",
      " 24  generation_gwh_2019             9659 non-null   Float64\n",
      " 25  generation_data_source          11400 non-null  string \n",
      " 26  estimated_generation_gwh_2013   16120 non-null  Float64\n",
      " 27  estimated_generation_gwh_2014   16503 non-null  Float64\n",
      " 28  estimated_generation_gwh_2015   17050 non-null  Float64\n",
      " 29  estimated_generation_gwh_2016   17570 non-null  Float64\n",
      " 30  estimated_generation_gwh_2017   33138 non-null  Float64\n",
      " 31  estimated_generation_note_2013  34936 non-null  string \n",
      " 32  estimated_generation_note_2014  34936 non-null  string \n",
      " 33  estimated_generation_note_2015  34936 non-null  string \n",
      " 34  estimated_generation_note_2016  34936 non-null  string \n",
      " 35  estimated_generation_note_2017  34936 non-null  string \n",
      "dtypes: Float64(16), Int64(1), string(19)\n",
      "memory usage: 10.2 MB\n",
      "None\n"
     ]
    }
   ],
   "source": [
    "print(df.info(verbose=True))"
   ]
  },
  {
   "cell_type": "code",
   "execution_count": 11,
   "id": "44e6cef1-fc04-4eea-bdbe-b8e99f43d67d",
   "metadata": {},
   "outputs": [],
   "source": [
    "df = df.astype({\"year_of_capacity_data\": \"string\"})"
   ]
  },
  {
   "cell_type": "code",
   "execution_count": 12,
   "id": "49d8d40b-ab0e-4a59-92b6-61d6c8a3fdbf",
   "metadata": {},
   "outputs": [
    {
     "data": {
      "text/html": [
       "<div>\n",
       "<style scoped>\n",
       "    .dataframe tbody tr th:only-of-type {\n",
       "        vertical-align: middle;\n",
       "    }\n",
       "\n",
       "    .dataframe tbody tr th {\n",
       "        vertical-align: top;\n",
       "    }\n",
       "\n",
       "    .dataframe thead th {\n",
       "        text-align: right;\n",
       "    }\n",
       "</style>\n",
       "<table border=\"1\" class=\"dataframe\">\n",
       "  <thead>\n",
       "    <tr style=\"text-align: right;\">\n",
       "      <th></th>\n",
       "      <th>country</th>\n",
       "      <th>country_long</th>\n",
       "      <th>name</th>\n",
       "      <th>gppd_idnr</th>\n",
       "      <th>capacity_mw</th>\n",
       "      <th>latitude</th>\n",
       "      <th>longitude</th>\n",
       "      <th>primary_fuel</th>\n",
       "      <th>other_fuel1</th>\n",
       "      <th>other_fuel2</th>\n",
       "      <th>...</th>\n",
       "      <th>estimated_generation_gwh_2013</th>\n",
       "      <th>estimated_generation_gwh_2014</th>\n",
       "      <th>estimated_generation_gwh_2015</th>\n",
       "      <th>estimated_generation_gwh_2016</th>\n",
       "      <th>estimated_generation_gwh_2017</th>\n",
       "      <th>estimated_generation_note_2013</th>\n",
       "      <th>estimated_generation_note_2014</th>\n",
       "      <th>estimated_generation_note_2015</th>\n",
       "      <th>estimated_generation_note_2016</th>\n",
       "      <th>estimated_generation_note_2017</th>\n",
       "    </tr>\n",
       "  </thead>\n",
       "  <tbody>\n",
       "    <tr>\n",
       "      <th>0</th>\n",
       "      <td>AFG</td>\n",
       "      <td>Afghanistan</td>\n",
       "      <td>Kajaki Hydroelectric Power Plant Afghanistan</td>\n",
       "      <td>GEODB0040538</td>\n",
       "      <td>33.0</td>\n",
       "      <td>32.322</td>\n",
       "      <td>65.119</td>\n",
       "      <td>Hydro</td>\n",
       "      <td>&lt;NA&gt;</td>\n",
       "      <td>&lt;NA&gt;</td>\n",
       "      <td>...</td>\n",
       "      <td>123.77</td>\n",
       "      <td>162.9</td>\n",
       "      <td>97.39</td>\n",
       "      <td>137.76</td>\n",
       "      <td>119.5</td>\n",
       "      <td>HYDRO-V1</td>\n",
       "      <td>HYDRO-V1</td>\n",
       "      <td>HYDRO-V1</td>\n",
       "      <td>HYDRO-V1</td>\n",
       "      <td>HYDRO-V1</td>\n",
       "    </tr>\n",
       "    <tr>\n",
       "      <th>1</th>\n",
       "      <td>AFG</td>\n",
       "      <td>Afghanistan</td>\n",
       "      <td>Kandahar DOG</td>\n",
       "      <td>WKS0070144</td>\n",
       "      <td>10.0</td>\n",
       "      <td>31.67</td>\n",
       "      <td>65.795</td>\n",
       "      <td>Solar</td>\n",
       "      <td>&lt;NA&gt;</td>\n",
       "      <td>&lt;NA&gt;</td>\n",
       "      <td>...</td>\n",
       "      <td>18.43</td>\n",
       "      <td>17.48</td>\n",
       "      <td>18.25</td>\n",
       "      <td>17.7</td>\n",
       "      <td>18.29</td>\n",
       "      <td>SOLAR-V1-NO-AGE</td>\n",
       "      <td>SOLAR-V1-NO-AGE</td>\n",
       "      <td>SOLAR-V1-NO-AGE</td>\n",
       "      <td>SOLAR-V1-NO-AGE</td>\n",
       "      <td>SOLAR-V1-NO-AGE</td>\n",
       "    </tr>\n",
       "    <tr>\n",
       "      <th>2</th>\n",
       "      <td>AFG</td>\n",
       "      <td>Afghanistan</td>\n",
       "      <td>Kandahar JOL</td>\n",
       "      <td>WKS0071196</td>\n",
       "      <td>10.0</td>\n",
       "      <td>31.623</td>\n",
       "      <td>65.792</td>\n",
       "      <td>Solar</td>\n",
       "      <td>&lt;NA&gt;</td>\n",
       "      <td>&lt;NA&gt;</td>\n",
       "      <td>...</td>\n",
       "      <td>18.64</td>\n",
       "      <td>17.58</td>\n",
       "      <td>19.1</td>\n",
       "      <td>17.62</td>\n",
       "      <td>18.72</td>\n",
       "      <td>SOLAR-V1-NO-AGE</td>\n",
       "      <td>SOLAR-V1-NO-AGE</td>\n",
       "      <td>SOLAR-V1-NO-AGE</td>\n",
       "      <td>SOLAR-V1-NO-AGE</td>\n",
       "      <td>SOLAR-V1-NO-AGE</td>\n",
       "    </tr>\n",
       "    <tr>\n",
       "      <th>3</th>\n",
       "      <td>AFG</td>\n",
       "      <td>Afghanistan</td>\n",
       "      <td>Mahipar Hydroelectric Power Plant Afghanistan</td>\n",
       "      <td>GEODB0040541</td>\n",
       "      <td>66.0</td>\n",
       "      <td>34.556</td>\n",
       "      <td>69.4787</td>\n",
       "      <td>Hydro</td>\n",
       "      <td>&lt;NA&gt;</td>\n",
       "      <td>&lt;NA&gt;</td>\n",
       "      <td>...</td>\n",
       "      <td>225.06</td>\n",
       "      <td>203.55</td>\n",
       "      <td>146.9</td>\n",
       "      <td>230.18</td>\n",
       "      <td>174.91</td>\n",
       "      <td>HYDRO-V1</td>\n",
       "      <td>HYDRO-V1</td>\n",
       "      <td>HYDRO-V1</td>\n",
       "      <td>HYDRO-V1</td>\n",
       "      <td>HYDRO-V1</td>\n",
       "    </tr>\n",
       "    <tr>\n",
       "      <th>4</th>\n",
       "      <td>AFG</td>\n",
       "      <td>Afghanistan</td>\n",
       "      <td>Naghlu Dam Hydroelectric Power Plant Afghanistan</td>\n",
       "      <td>GEODB0040534</td>\n",
       "      <td>100.0</td>\n",
       "      <td>34.641</td>\n",
       "      <td>69.717</td>\n",
       "      <td>Hydro</td>\n",
       "      <td>&lt;NA&gt;</td>\n",
       "      <td>&lt;NA&gt;</td>\n",
       "      <td>...</td>\n",
       "      <td>406.16</td>\n",
       "      <td>357.22</td>\n",
       "      <td>270.99</td>\n",
       "      <td>395.38</td>\n",
       "      <td>350.8</td>\n",
       "      <td>HYDRO-V1</td>\n",
       "      <td>HYDRO-V1</td>\n",
       "      <td>HYDRO-V1</td>\n",
       "      <td>HYDRO-V1</td>\n",
       "      <td>HYDRO-V1</td>\n",
       "    </tr>\n",
       "  </tbody>\n",
       "</table>\n",
       "<p>5 rows × 36 columns</p>\n",
       "</div>"
      ],
      "text/plain": [
       "  country country_long                                              name  \\\n",
       "0     AFG  Afghanistan      Kajaki Hydroelectric Power Plant Afghanistan   \n",
       "1     AFG  Afghanistan                                      Kandahar DOG   \n",
       "2     AFG  Afghanistan                                      Kandahar JOL   \n",
       "3     AFG  Afghanistan     Mahipar Hydroelectric Power Plant Afghanistan   \n",
       "4     AFG  Afghanistan  Naghlu Dam Hydroelectric Power Plant Afghanistan   \n",
       "\n",
       "      gppd_idnr  capacity_mw  latitude  longitude primary_fuel other_fuel1  \\\n",
       "0  GEODB0040538         33.0    32.322     65.119        Hydro        <NA>   \n",
       "1    WKS0070144         10.0     31.67     65.795        Solar        <NA>   \n",
       "2    WKS0071196         10.0    31.623     65.792        Solar        <NA>   \n",
       "3  GEODB0040541         66.0    34.556    69.4787        Hydro        <NA>   \n",
       "4  GEODB0040534        100.0    34.641     69.717        Hydro        <NA>   \n",
       "\n",
       "  other_fuel2  ... estimated_generation_gwh_2013  \\\n",
       "0        <NA>  ...                        123.77   \n",
       "1        <NA>  ...                         18.43   \n",
       "2        <NA>  ...                         18.64   \n",
       "3        <NA>  ...                        225.06   \n",
       "4        <NA>  ...                        406.16   \n",
       "\n",
       "   estimated_generation_gwh_2014 estimated_generation_gwh_2015  \\\n",
       "0                          162.9                         97.39   \n",
       "1                          17.48                         18.25   \n",
       "2                          17.58                          19.1   \n",
       "3                         203.55                         146.9   \n",
       "4                         357.22                        270.99   \n",
       "\n",
       "  estimated_generation_gwh_2016 estimated_generation_gwh_2017  \\\n",
       "0                        137.76                         119.5   \n",
       "1                          17.7                         18.29   \n",
       "2                         17.62                         18.72   \n",
       "3                        230.18                        174.91   \n",
       "4                        395.38                         350.8   \n",
       "\n",
       "  estimated_generation_note_2013 estimated_generation_note_2014  \\\n",
       "0                       HYDRO-V1                       HYDRO-V1   \n",
       "1                SOLAR-V1-NO-AGE                SOLAR-V1-NO-AGE   \n",
       "2                SOLAR-V1-NO-AGE                SOLAR-V1-NO-AGE   \n",
       "3                       HYDRO-V1                       HYDRO-V1   \n",
       "4                       HYDRO-V1                       HYDRO-V1   \n",
       "\n",
       "  estimated_generation_note_2015  estimated_generation_note_2016  \\\n",
       "0                       HYDRO-V1                        HYDRO-V1   \n",
       "1                SOLAR-V1-NO-AGE                 SOLAR-V1-NO-AGE   \n",
       "2                SOLAR-V1-NO-AGE                 SOLAR-V1-NO-AGE   \n",
       "3                       HYDRO-V1                        HYDRO-V1   \n",
       "4                       HYDRO-V1                        HYDRO-V1   \n",
       "\n",
       "   estimated_generation_note_2017  \n",
       "0                        HYDRO-V1  \n",
       "1                 SOLAR-V1-NO-AGE  \n",
       "2                 SOLAR-V1-NO-AGE  \n",
       "3                        HYDRO-V1  \n",
       "4                        HYDRO-V1  \n",
       "\n",
       "[5 rows x 36 columns]"
      ]
     },
     "execution_count": 12,
     "metadata": {},
     "output_type": "execute_result"
    }
   ],
   "source": [
    "df.head()"
   ]
  },
  {
   "cell_type": "code",
   "execution_count": 13,
   "id": "fb2ff45a-9624-40fa-b5b0-a4eac2975366",
   "metadata": {},
   "outputs": [],
   "source": [
    "# Auxiliar functions to create automatically the spark schema with type conversion\n",
    "def equivalent_type(f):\n",
    "    if f == 'datetime64[ns]': return TimestampType()\n",
    "    elif f == 'Int64': return LongType()\n",
    "    elif f == 'Int32': return IntegerType()\n",
    "    elif f == 'Float64': return DoubleType()\n",
    "    elif f == 'Float32': return FloatType()\n",
    "    else: return StringType()\n",
    "\n",
    "def define_structure(string, format_type):\n",
    "    try: typo = equivalent_type(format_type)\n",
    "    except: typo = StringType()\n",
    "    return StructField(string, typo)\n",
    "\n",
    "# Given pandas dataframe, it will return a spark's dataframe.\n",
    "def pandas_to_spark(pandas_df):\n",
    "    columns = list(pandas_df.columns)\n",
    "    types = list(pandas_df.dtypes)\n",
    "    struct_list = []\n",
    "    for column, typo in zip(columns, types): \n",
    "      struct_list.append(define_structure(column, typo))\n",
    "    p_schema = StructType(struct_list)\n",
    "    return spark.createDataFrame(pandas_df, p_schema)"
   ]
  },
  {
   "cell_type": "code",
   "execution_count": 14,
   "id": "c80218cc-39a8-4c4e-ab1a-2ebb4882b37b",
   "metadata": {},
   "outputs": [
    {
     "name": "stderr",
     "output_type": "stream",
     "text": [
      "24/06/22 13:34:36 WARN SQLConf: The SQL config 'spark.sql.execution.arrow.enabled' has been deprecated in Spark v3.0 and may be removed in the future. Use 'spark.sql.execution.arrow.pyspark.enabled' instead of it.\n"
     ]
    }
   ],
   "source": [
    "spark.conf.set(\"spark.sql.execution.arrow.enabled\", \"true\")\n",
    "spark_df = spark.createDataFrame(df)"
   ]
  },
  {
   "cell_type": "code",
   "execution_count": 15,
   "id": "094dc692-f344-4812-96c4-bd48ed3e9457",
   "metadata": {},
   "outputs": [
    {
     "name": "stderr",
     "output_type": "stream",
     "text": [
      "24/06/22 13:34:41 WARN SparkStringUtils: Truncated the string representation of a plan since it was too large. This behavior can be adjusted by setting 'spark.sql.debug.maxToStringFields'.\n"
     ]
    },
    {
     "name": "stdout",
     "output_type": "stream",
     "text": [
      "+-------+------------+--------------------+------------+-----------+--------+---------+------------+-----------+-----------+-----------+------------------+--------------------+--------------------+--------------------+------------------+-------+---------------------+-------------------+-------------------+-------------------+-------------------+-------------------+-------------------+-------------------+----------------------+-----------------------------+-----------------------------+-----------------------------+-----------------------------+-----------------------------+------------------------------+------------------------------+------------------------------+------------------------------+------------------------------+\n",
      "|country|country_long|                name|   gppd_idnr|capacity_mw|latitude|longitude|primary_fuel|other_fuel1|other_fuel2|other_fuel3|commissioning_year|               owner|              source|                 url|geolocation_source|wepp_id|year_of_capacity_data|generation_gwh_2013|generation_gwh_2014|generation_gwh_2015|generation_gwh_2016|generation_gwh_2017|generation_gwh_2018|generation_gwh_2019|generation_data_source|estimated_generation_gwh_2013|estimated_generation_gwh_2014|estimated_generation_gwh_2015|estimated_generation_gwh_2016|estimated_generation_gwh_2017|estimated_generation_note_2013|estimated_generation_note_2014|estimated_generation_note_2015|estimated_generation_note_2016|estimated_generation_note_2017|\n",
      "+-------+------------+--------------------+------------+-----------+--------+---------+------------+-----------+-----------+-----------+------------------+--------------------+--------------------+--------------------+------------------+-------+---------------------+-------------------+-------------------+-------------------+-------------------+-------------------+-------------------+-------------------+----------------------+-----------------------------+-----------------------------+-----------------------------+-----------------------------+-----------------------------+------------------------------+------------------------------+------------------------------+------------------------------+------------------------------+\n",
      "|    AFG| Afghanistan|Kajaki Hydroelect...|GEODB0040538|       33.0|  32.322|   65.119|       Hydro|       NULL|       NULL|       NULL|              NULL|                NULL|               GEODB|http://globalener...|             GEODB|1009793|                 2017|               NULL|               NULL|               NULL|               NULL|               NULL|               NULL|               NULL|                  NULL|                       123.77|                        162.9|                        97.39|                       137.76|                        119.5|                      HYDRO-V1|                      HYDRO-V1|                      HYDRO-V1|                      HYDRO-V1|                      HYDRO-V1|\n",
      "|    AFG| Afghanistan|        Kandahar DOG|  WKS0070144|       10.0|   31.67|   65.795|       Solar|       NULL|       NULL|       NULL|              NULL|                NULL|          Wiki-Solar|https://www.wiki-...|        Wiki-Solar|   NULL|                 NULL|               NULL|               NULL|               NULL|               NULL|               NULL|               NULL|               NULL|                  NULL|                        18.43|                        17.48|                        18.25|                         17.7|                        18.29|               SOLAR-V1-NO-AGE|               SOLAR-V1-NO-AGE|               SOLAR-V1-NO-AGE|               SOLAR-V1-NO-AGE|               SOLAR-V1-NO-AGE|\n",
      "|    AFG| Afghanistan|        Kandahar JOL|  WKS0071196|       10.0|  31.623|   65.792|       Solar|       NULL|       NULL|       NULL|              NULL|                NULL|          Wiki-Solar|https://www.wiki-...|        Wiki-Solar|   NULL|                 NULL|               NULL|               NULL|               NULL|               NULL|               NULL|               NULL|               NULL|                  NULL|                        18.64|                        17.58|                         19.1|                        17.62|                        18.72|               SOLAR-V1-NO-AGE|               SOLAR-V1-NO-AGE|               SOLAR-V1-NO-AGE|               SOLAR-V1-NO-AGE|               SOLAR-V1-NO-AGE|\n",
      "|    AFG| Afghanistan|Mahipar Hydroelec...|GEODB0040541|       66.0|  34.556|  69.4787|       Hydro|       NULL|       NULL|       NULL|              NULL|                NULL|               GEODB|http://globalener...|             GEODB|1009795|                 2017|               NULL|               NULL|               NULL|               NULL|               NULL|               NULL|               NULL|                  NULL|                       225.06|                       203.55|                        146.9|                       230.18|                       174.91|                      HYDRO-V1|                      HYDRO-V1|                      HYDRO-V1|                      HYDRO-V1|                      HYDRO-V1|\n",
      "|    AFG| Afghanistan|Naghlu Dam Hydroe...|GEODB0040534|      100.0|  34.641|   69.717|       Hydro|       NULL|       NULL|       NULL|              NULL|                NULL|               GEODB|http://globalener...|             GEODB|1009797|                 2017|               NULL|               NULL|               NULL|               NULL|               NULL|               NULL|               NULL|                  NULL|                       406.16|                       357.22|                       270.99|                       395.38|                        350.8|                      HYDRO-V1|                      HYDRO-V1|                      HYDRO-V1|                      HYDRO-V1|                      HYDRO-V1|\n",
      "|    AFG| Afghanistan|Nangarhar (Darunt...|GEODB0040536|      11.55| 34.4847|  70.3633|       Hydro|       NULL|       NULL|       NULL|              NULL|                NULL|               GEODB|http://globalener...|             GEODB|1009787|                 2017|               NULL|               NULL|               NULL|               NULL|               NULL|               NULL|               NULL|                  NULL|                        58.77|                        54.42|                        42.71|                        59.72|                        46.12|                      HYDRO-V1|                      HYDRO-V1|                      HYDRO-V1|                      HYDRO-V1|                      HYDRO-V1|\n",
      "|    AFG| Afghanistan|Northwest Kabul P...|GEODB0040540|       42.0| 34.5638|  69.1134|         Gas|       NULL|       NULL|       NULL|              NULL|                NULL|               GEODB|http://globalener...|             GEODB|   NULL|                 2017|               NULL|               NULL|               NULL|               NULL|               NULL|               NULL|               NULL|                  NULL|                         NULL|                         NULL|                         NULL|                         NULL|                         NULL|                 NO-ESTIMATION|                 NO-ESTIMATION|                 NO-ESTIMATION|                 NO-ESTIMATION|                 NO-ESTIMATION|\n",
      "|    AFG| Afghanistan|Pul-e-Khumri Hydr...|GEODB0040537|        6.0| 35.9416|    68.71|       Hydro|       NULL|       NULL|       NULL|              NULL|                NULL|               GEODB|http://globalener...|             GEODB|   NULL|                 2017|               NULL|               NULL|               NULL|               NULL|               NULL|               NULL|               NULL|                  NULL|                        21.99|                        21.19|                         18.4|                        25.34|                        19.74|                      HYDRO-V1|                      HYDRO-V1|                      HYDRO-V1|                      HYDRO-V1|                      HYDRO-V1|\n",
      "|    AFG| Afghanistan|Sarobi Dam Hydroe...|GEODB0040535|       22.0| 34.5865|  69.7757|       Hydro|       NULL|       NULL|       NULL|              NULL|                NULL|               GEODB|http://globalener...|             GEODB|1009799|                 2017|               NULL|               NULL|               NULL|               NULL|               NULL|               NULL|               NULL|                  NULL|                       123.23|                        82.87|                        69.15|                        93.83|                         80.0|                      HYDRO-V1|                      HYDRO-V1|                      HYDRO-V1|                      HYDRO-V1|                      HYDRO-V1|\n",
      "|    ALB|     Albania|          Bistrica 1|  WRI1002169|       27.0| 39.9116|  20.1047|       Hydro|       NULL|       NULL|       NULL|            1965.0|                NULL|Energy Charter Se...|http://www.energy...|             GEODB|1021225|                 NULL|               NULL|               NULL|               NULL|               NULL|               NULL|               NULL|               NULL|                  NULL|                       105.17|                        75.26|                         79.5|                       105.45|                        88.45|                      HYDRO-V1|                      HYDRO-V1|                      HYDRO-V1|                      HYDRO-V1|                      HYDRO-V1|\n",
      "|    ALB|     Albania|              Fierza|  WRI1002170|      500.0| 42.2514|  20.0431|       Hydro|       NULL|       NULL|       NULL|            1978.0|                NULL|Energy Charter Se...|http://www.energy...|             GEODB|1021231|                 NULL|               NULL|               NULL|               NULL|               NULL|               NULL|               NULL|               NULL|                  NULL|                      1976.01|                      1276.61|                      1503.72|                      1795.15|                      1648.24|                      HYDRO-V1|                      HYDRO-V1|                      HYDRO-V1|                      HYDRO-V1|                      HYDRO-V1|\n",
      "|    ALB|     Albania|               Koman|  WRI1002171|      600.0| 42.1033|  19.8224|       Hydro|       NULL|       NULL|       NULL|            1985.0|                NULL|Energy Charter Se...|http://www.energy...|             GEODB|1021233|                 NULL|               NULL|               NULL|               NULL|               NULL|               NULL|               NULL|               NULL|                  NULL|                      2072.13|                      1618.73|                      1805.63|                      2434.84|                      1982.72|                      HYDRO-V1|                      HYDRO-V1|                      HYDRO-V1|                      HYDRO-V1|                      HYDRO-V1|\n",
      "|    ALB|     Albania|          Lanabregas|  WRI1002172|        5.0| 41.3428|  19.8964|       Hydro|       NULL|       NULL|       NULL|            1951.0|                NULL|Energy Charter Se...|http://www.energy...|             GEODB|1021236|                 NULL|               NULL|               NULL|               NULL|               NULL|               NULL|               NULL|               NULL|                  NULL|                        20.37|                        12.89|                        14.64|                        20.04|                        15.23|                      HYDRO-V1|                      HYDRO-V1|                      HYDRO-V1|                      HYDRO-V1|                      HYDRO-V1|\n",
      "|    ALB|     Albania|             Shkopet|  WRI1002173|       24.0| 41.6796|  19.8305|       Hydro|       NULL|       NULL|       NULL|            1963.0|                NULL|Energy Charter Se...|http://www.energy...|             GEODB|1021238|                 NULL|               NULL|               NULL|               NULL|               NULL|               NULL|               NULL|               NULL|                  NULL|                        93.52|                        69.86|                        77.51|                         96.2|                        83.57|                      HYDRO-V1|                      HYDRO-V1|                      HYDRO-V1|                      HYDRO-V1|                      HYDRO-V1|\n",
      "|    ALB|     Albania|                Ulez|  WRI1002174|       25.0| 41.6796|  19.8936|       Hydro|       NULL|       NULL|       NULL|            1958.0|                NULL|Energy Charter Se...|http://www.energy...|             GEODB|1021241|                 NULL|               NULL|               NULL|               NULL|               NULL|               NULL|               NULL|               NULL|                  NULL|                        97.42|                        72.77|                        80.74|                       100.21|                        87.06|                      HYDRO-V1|                      HYDRO-V1|                      HYDRO-V1|                      HYDRO-V1|                      HYDRO-V1|\n",
      "|    ALB|     Albania|         Vau i Dijes|  WRI1002175|      250.0| 42.0137|  19.6359|       Hydro|       NULL|       NULL|       NULL|            1971.0|                NULL|Energy Charter Se...|http://www.energy...|             GEODB|1021242|                 NULL|               NULL|               NULL|               NULL|               NULL|               NULL|               NULL|               NULL|                  NULL|                       895.02|                       561.94|                       614.47|                       897.47|                       703.64|                      HYDRO-V1|                      HYDRO-V1|                      HYDRO-V1|                      HYDRO-V1|                      HYDRO-V1|\n",
      "|    ALB|     Albania|               Vlora|  WRI1002176|       98.0| 40.4874|   19.434|       Other|       NULL|       NULL|       NULL|              NULL|                NULL|Energy Charter Se...|http://www.energy...|             GEODB|1021244|                 NULL|               NULL|               NULL|               NULL|               NULL|               NULL|               NULL|               NULL|                  NULL|                         NULL|                         NULL|                         NULL|                         NULL|                         NULL|                 NO-ESTIMATION|                 NO-ESTIMATION|                 NO-ESTIMATION|                 NO-ESTIMATION|                 NO-ESTIMATION|\n",
      "|    DZA|     Algeria|               Adrar|  WKS0068905|       20.0|  27.908|   -0.317|       Solar|       NULL|       NULL|       NULL|              NULL|                NULL|          Wiki-Solar|https://www.wiki-...|        Wiki-Solar|   NULL|                 NULL|               NULL|               NULL|               NULL|               NULL|               NULL|               NULL|               NULL|                  NULL|                         NULL|                        35.22|                        34.22|                        35.33|                        35.17|                 NO-ESTIMATION|               SOLAR-V1-NO-AGE|               SOLAR-V1-NO-AGE|               SOLAR-V1-NO-AGE|               SOLAR-V1-NO-AGE|\n",
      "|    DZA|     Algeria|            Ain Azel|  WKS0065285|       20.0|   35.88|    5.475|       Solar|       NULL|       NULL|       NULL|              NULL|                NULL|          Wiki-Solar|https://www.wiki-...|        Wiki-Solar|   NULL|                 NULL|               NULL|               NULL|               NULL|               NULL|               NULL|               NULL|               NULL|                  NULL|                         NULL|                        38.68|                        37.56|                        38.37|                        38.75|                 NO-ESTIMATION|               SOLAR-V1-NO-AGE|               SOLAR-V1-NO-AGE|               SOLAR-V1-NO-AGE|               SOLAR-V1-NO-AGE|\n",
      "|    DZA|     Algeria|         Ain Djasser|  WRI1023776|      520.0| 35.8665|   6.0262|         Gas|        Oil|       NULL|       NULL|              NULL|SociÃ©te AlgÃ©rie...|Arab Union of Ele...|http://www.auptde...|               KTH|1069670|                 NULL|               NULL|               NULL|               NULL|               NULL|               NULL|               NULL|               NULL|                  NULL|                         NULL|                         NULL|                         NULL|                         NULL|                      2171.28|                 NO-ESTIMATION|                 NO-ESTIMATION|                 NO-ESTIMATION|                 NO-ESTIMATION|            CAPACITY-FACTOR-V1|\n",
      "+-------+------------+--------------------+------------+-----------+--------+---------+------------+-----------+-----------+-----------+------------------+--------------------+--------------------+--------------------+------------------+-------+---------------------+-------------------+-------------------+-------------------+-------------------+-------------------+-------------------+-------------------+----------------------+-----------------------------+-----------------------------+-----------------------------+-----------------------------+-----------------------------+------------------------------+------------------------------+------------------------------+------------------------------+------------------------------+\n",
      "only showing top 20 rows\n",
      "\n",
      "root\n",
      " |-- country: string (nullable = true)\n",
      " |-- country_long: string (nullable = true)\n",
      " |-- name: string (nullable = true)\n",
      " |-- gppd_idnr: string (nullable = true)\n",
      " |-- capacity_mw: double (nullable = true)\n",
      " |-- latitude: double (nullable = true)\n",
      " |-- longitude: double (nullable = true)\n",
      " |-- primary_fuel: string (nullable = true)\n",
      " |-- other_fuel1: string (nullable = true)\n",
      " |-- other_fuel2: string (nullable = true)\n",
      " |-- other_fuel3: string (nullable = true)\n",
      " |-- commissioning_year: double (nullable = true)\n",
      " |-- owner: string (nullable = true)\n",
      " |-- source: string (nullable = true)\n",
      " |-- url: string (nullable = true)\n",
      " |-- geolocation_source: string (nullable = true)\n",
      " |-- wepp_id: string (nullable = true)\n",
      " |-- year_of_capacity_data: string (nullable = true)\n",
      " |-- generation_gwh_2013: double (nullable = true)\n",
      " |-- generation_gwh_2014: double (nullable = true)\n",
      " |-- generation_gwh_2015: double (nullable = true)\n",
      " |-- generation_gwh_2016: double (nullable = true)\n",
      " |-- generation_gwh_2017: double (nullable = true)\n",
      " |-- generation_gwh_2018: double (nullable = true)\n",
      " |-- generation_gwh_2019: double (nullable = true)\n",
      " |-- generation_data_source: string (nullable = true)\n",
      " |-- estimated_generation_gwh_2013: double (nullable = true)\n",
      " |-- estimated_generation_gwh_2014: double (nullable = true)\n",
      " |-- estimated_generation_gwh_2015: double (nullable = true)\n",
      " |-- estimated_generation_gwh_2016: double (nullable = true)\n",
      " |-- estimated_generation_gwh_2017: double (nullable = true)\n",
      " |-- estimated_generation_note_2013: string (nullable = true)\n",
      " |-- estimated_generation_note_2014: string (nullable = true)\n",
      " |-- estimated_generation_note_2015: string (nullable = true)\n",
      " |-- estimated_generation_note_2016: string (nullable = true)\n",
      " |-- estimated_generation_note_2017: string (nullable = true)\n",
      "\n"
     ]
    }
   ],
   "source": [
    "# spark_df.printSchema()\n",
    "spark_df.show()\n",
    "spark_df.printSchema()"
   ]
  },
  {
   "cell_type": "markdown",
   "id": "0d97c299-77d3-4c04-8561-7d59bdc3089c",
   "metadata": {},
   "source": [
    "Write the dataframe into Iceberg"
   ]
  },
  {
   "cell_type": "code",
   "execution_count": 16,
   "id": "e09dd241-5f79-4a00-b181-0bfae1430ebb",
   "metadata": {
    "scrolled": true
   },
   "outputs": [
    {
     "name": "stderr",
     "output_type": "stream",
     "text": [
      "24/06/22 13:35:24 WARN TaskSetManager: Stage 0 contains a task of very large size (2686 KiB). The maximum recommended task size is 1000 KiB.\n",
      "                                                                                \r"
     ]
    },
    {
     "name": "stdout",
     "output_type": "stream",
     "text": [
      "Data written to Iceberg table successfully.\n"
     ]
    }
   ],
   "source": [
    "try:\n",
    "    spark_df.writeTo(\"wri_gppd.gppd_source\").createOrReplace()\n",
    "    print(\"Data written to Iceberg table successfully.\" )\n",
    "except Exception as e:\n",
    "    print(\"Error writing data to Iceberg table:\", str(e))"
   ]
  },
  {
   "cell_type": "markdown",
   "id": "3de49f3a-d729-4af4-9edc-224fc7356ea9",
   "metadata": {},
   "source": [
    "Connect to Trino and ensure the data is loaded"
   ]
  },
  {
   "cell_type": "code",
   "execution_count": 17,
   "id": "edc9ff36-00e0-47b2-87e3-1c908e72facd",
   "metadata": {},
   "outputs": [],
   "source": [
    "# Define execution variables for Iceberg / Trino\n",
    "ingest_catalog = 'iceberg'\n",
    "ingest_schema = 'wri_gppd'\n",
    "ingest_table = 'gppd_source'"
   ]
  },
  {
   "cell_type": "code",
   "execution_count": 18,
   "id": "e3125725-d019-439d-b470-10943060bdea",
   "metadata": {},
   "outputs": [],
   "source": [
    "# Create a connection to Trino using an SQLAlchemy Engine\n",
    "# Documentation: https://docs.sqlalchemy.org/en/20/core/engines.html#sqlalchemy.create_engine\n",
    "engine = create_engine('trino://' + os.environ['TRINO_USER'] + '@' + os.environ['TRINO_HOST'] + ':' + os.environ['TRINO_PORT'])"
   ]
  },
  {
   "cell_type": "code",
   "execution_count": 19,
   "id": "66769777-ab0b-410d-80a2-cc5b0cff0276",
   "metadata": {},
   "outputs": [
    {
     "data": {
      "text/plain": [
       "<bound method Engine.connect of Engine(trino://admin@trino:8080)>"
      ]
     },
     "execution_count": 19,
     "metadata": {},
     "output_type": "execute_result"
    }
   ],
   "source": [
    "engine.connect"
   ]
  },
  {
   "cell_type": "code",
   "execution_count": 20,
   "id": "9f00f8a8-b809-4376-ba1b-eb3a256febc7",
   "metadata": {},
   "outputs": [
    {
     "name": "stdout",
     "output_type": "stream",
     "text": [
      "('hive',)\n",
      "('iceberg',)\n",
      "('system',)\n",
      "('tpcds',)\n",
      "('tpch',)\n"
     ]
    }
   ],
   "source": [
    "# Show existing catalogs in Trino to make sure the connection works fine\n",
    "with engine.connect() as connection:\n",
    "    result = connection.execute(text('show catalogs'))\n",
    "    for row in result:\n",
    "        print(row)"
   ]
  },
  {
   "cell_type": "code",
   "execution_count": 21,
   "id": "2cb4b34d-6f8d-4758-9420-8767c77e2d12",
   "metadata": {},
   "outputs": [
    {
     "name": "stdout",
     "output_type": "stream",
     "text": [
      "('default',)\n",
      "('demo',)\n",
      "('information_schema',)\n",
      "('observability',)\n",
      "('product',)\n",
      "('wri_gppd',)\n"
     ]
    }
   ],
   "source": [
    "# Show available schemas\n",
    "schema_show_sql = f\"\"\"\n",
    "show schemas in {ingest_catalog}\n",
    "\"\"\"\n",
    "with engine.connect() as connection:\n",
    "    result = connection.execute(text(schema_show_sql))\n",
    "    for row in result:\n",
    "        print(row)"
   ]
  },
  {
   "cell_type": "code",
   "execution_count": 22,
   "id": "34f389f2-9dd4-4e15-9781-37ee651a662c",
   "metadata": {},
   "outputs": [
    {
     "name": "stdout",
     "output_type": "stream",
     "text": [
      "('gppd_power_plants_list',)\n",
      "('gppd_source',)\n"
     ]
    }
   ],
   "source": [
    "# Show available tables\n",
    "tables_show_sql = f\"\"\"\n",
    "show tables from {ingest_catalog}.{ingest_schema}\n",
    "\"\"\"\n",
    "with engine.connect() as connection:\n",
    "    result = connection.execute(text(tables_show_sql))\n",
    "    for row in result:\n",
    "        print(row)"
   ]
  },
  {
   "cell_type": "code",
   "execution_count": 23,
   "id": "339c384b-5297-45da-94b8-110a46fd626a",
   "metadata": {},
   "outputs": [
    {
     "name": "stdout",
     "output_type": "stream",
     "text": [
      "\n",
      "select * from iceberg.wri_gppd.gppd_source\n",
      "\n",
      "('CAN', 'Canada', 'Pointe du Bois', 'CAN0008238', 75.0, 50.2981, -95.5481, 'Hydro', None, None, None, None, None, 'Natural Resources Canada', 'ftp://ftp.maps.canada.ca/pub/nacei_cnaie/energy_infrastructure/PowerPlantsRenewGE1MW_NorthAmerica_201708.xlsx', 'Natural Resources Canada', '37141', '2017', None, None, None, None, None, None, None, None, 348.18, 386.71, 361.11, 390.03, 366.33, 'HYDRO-V1', 'HYDRO-V1', 'HYDRO-V1', 'HYDRO-V1', 'HYDRO-V1')\n",
      "('CAN', 'Canada', 'Pointes aux Roches', 'CAN0008239', 48.6, 42.2841, -82.5284, 'Wind', None, None, None, None, 'Pointe-aux-Roches Wind LP', 'Natural Resources Canada', 'ftp://ftp.maps.canada.ca/pub/nacei_cnaie/energy_infrastructure/PowerPlantsRenewGE1MW_NorthAmerica_201708.xlsx', 'Natural Resources Canada', '61695', '2016', None, None, None, None, None, None, None, None, None, None, None, None, 112.75, 'NO-ESTIMATION', 'NO-ESTIMATION', 'NO-ESTIMATION', 'NO-ESTIMATION', 'CAPACITY-FACTOR-V1')\n",
      "('CAN', 'Canada', 'Pont-Arnaud', 'CAN0008240', 8.0, 48.4069, -71.1232, 'Hydro', None, None, None, None, 'Ville de Saguenay\\xa0/Hydro-Jonquière', 'Natural Resources Canada', 'ftp://ftp.maps.canada.ca/pub/nacei_cnaie/energy_infrastructure/PowerPlantsRenewGE1MW_NorthAmerica_201708.xlsx', 'Natural Resources Canada', '22667', '2017', None, None, None, None, None, None, None, None, 34.84, 34.67, 34.79, 35.69, 35.59, 'HYDRO-V1', 'HYDRO-V1', 'HYDRO-V1', 'HYDRO-V1', 'HYDRO-V1')\n",
      "('CAN', 'Canada', 'Poplar Creek', 'CAN0002078', 360.0, 57.008, -111.4868, 'Gas', None, None, None, None, 'TransAlta', 'Natural Resources Canada', 'http://ftp.maps.canada.ca/pub/nacei_cnaie/energy_infrastructure/PowerPlantsAllGE100MW_NorthAmerica_201708.xlsx', 'Natural Resources Canada', '33928', '2017', None, None, None, None, None, None, None, None, None, None, None, None, 1257.08, 'NO-ESTIMATION', 'NO-ESTIMATION', 'NO-ESTIMATION', 'NO-ESTIMATION', 'CAPACITY-FACTOR-V1')\n",
      "('CAN', 'Canada', 'Poplar River', 'CAN0002079', 582.0, 49.0579, -105.4851, 'Coal', None, None, None, None, 'Saskatchewan Power Corp', 'Natural Resources Canada', 'http://ftp.maps.canada.ca/pub/nacei_cnaie/energy_infrastructure/PowerPlantsAllGE100MW_NorthAmerica_201708.xlsx', 'Natural Resources Canada', '32153', '2016', None, None, None, None, None, None, None, None, None, None, None, None, 3838.18, 'NO-ESTIMATION', 'NO-ESTIMATION', 'NO-ESTIMATION', 'NO-ESTIMATION', 'CAPACITY-FACTOR-V1')\n",
      "('CAN', 'Canada', 'Port Alice', 'CAN0008241', 26.1, 50.3839, -127.4509, 'Biomass', None, None, None, None, 'Neucel', 'Natural Resources Canada', 'ftp://ftp.maps.canada.ca/pub/nacei_cnaie/energy_infrastructure/PowerPlantsRenewGE1MW_NorthAmerica_201708.xlsx', 'Natural Resources Canada', '36715', '2000', None, None, None, None, None, None, None, None, None, None, None, None, None, 'NO-ESTIMATION', 'NO-ESTIMATION', 'NO-ESTIMATION', 'NO-ESTIMATION', 'NO-ESTIMATION')\n",
      "('CAN', 'Canada', 'Port Alma', 'CAN0002209', 101.2, 42.1839, -82.2851, 'Wind', None, None, None, None, 'Kruger Energy Port Alma LP', 'Natural Resources Canada', 'http://ftp.maps.canada.ca/pub/nacei_cnaie/energy_infrastructure/PowerPlantsAllGE100MW_NorthAmerica_201708.xlsx', 'Natural Resources Canada', '55234', '2016', None, None, None, None, None, None, None, None, None, None, None, None, 234.78, 'NO-ESTIMATION', 'NO-ESTIMATION', 'NO-ESTIMATION', 'NO-ESTIMATION', 'CAPACITY-FACTOR-V1')\n",
      "('CAN', 'Canada', 'Port Dover / Nanticoke', 'CAN0002210', 104.4, 42.8392, -80.0274, 'Wind', None, None, None, None, 'Capital Power (PDN) LP', 'Natural Resources Canada', 'http://ftp.maps.canada.ca/pub/nacei_cnaie/energy_infrastructure/PowerPlantsAllGE100MW_NorthAmerica_201708.xlsx', 'Natural Resources Canada', '61801', '2016', None, None, None, None, None, None, None, None, None, None, None, None, 242.2, 'NO-ESTIMATION', 'NO-ESTIMATION', 'NO-ESTIMATION', 'NO-ESTIMATION', 'CAPACITY-FACTOR-V1')\n",
      "('CAN', 'Canada', 'Port Hawkesbury', 'CAN0008244', 60.0, 45.5982, -61.3601, 'Biomass', None, None, None, None, 'Nova Scotia Power Inc', 'Natural Resources Canada', 'ftp://ftp.maps.canada.ca/pub/nacei_cnaie/energy_infrastructure/PowerPlantsRenewGE1MW_NorthAmerica_201708.xlsx', 'Natural Resources Canada', '33762', '2017', None, None, None, None, None, None, None, None, None, None, None, None, None, 'NO-ESTIMATION', 'NO-ESTIMATION', 'NO-ESTIMATION', 'NO-ESTIMATION', 'NO-ESTIMATION')\n",
      "('CAN', 'Canada', 'Port Ryerse', 'CAN0008245', 10.0, 42.7677, -80.2521, 'Wind', None, None, None, None, 'Boralex', 'Natural Resources Canada', 'ftp://ftp.maps.canada.ca/pub/nacei_cnaie/energy_infrastructure/PowerPlantsRenewGE1MW_NorthAmerica_201708.xlsx', 'Natural Resources Canada', '68695', '2016', None, None, None, None, None, None, None, None, None, None, None, None, 23.2, 'NO-ESTIMATION', 'NO-ESTIMATION', 'NO-ESTIMATION', 'NO-ESTIMATION', 'CAPACITY-FACTOR-V1')\n"
     ]
    }
   ],
   "source": [
    "# Query table to verify insertion was successful\n",
    "select_query = f\"\"\"\n",
    "select * from {ingest_catalog}.{ingest_schema}.{ingest_table}\n",
    "\"\"\"\n",
    "print(select_query)\n",
    "with engine.connect() as connection:\n",
    "    result = connection.execute(text(select_query)).fetchmany(10)\n",
    "    for row in result:\n",
    "        print(row)"
   ]
  },
  {
   "cell_type": "code",
   "execution_count": null,
   "id": "5416bac5-9049-4cd0-aa79-139a9247363d",
   "metadata": {},
   "outputs": [],
   "source": []
  }
 ],
 "metadata": {
  "kernelspec": {
   "display_name": "Python 3 (ipykernel)",
   "language": "python",
   "name": "python3"
  },
  "language_info": {
   "codemirror_mode": {
    "name": "ipython",
    "version": 3
   },
   "file_extension": ".py",
   "mimetype": "text/x-python",
   "name": "python",
   "nbconvert_exporter": "python",
   "pygments_lexer": "ipython3",
   "version": "3.9.19"
  }
 },
 "nbformat": 4,
 "nbformat_minor": 5
}
